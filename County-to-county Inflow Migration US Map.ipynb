{
 "cells": [
  {
   "cell_type": "markdown",
   "id": "6146b995-9347-4792-b0d5-d93e49bd8a11",
   "metadata": {
    "jp-MarkdownHeadingCollapsed": true
   },
   "source": [
    "# County-to-county Inflow Migration US Map\n",
    "\n",
    "### Documentation for network analysis on inflow migrations\n",
    "\n",
    "### Sections\n",
    "1. Import modules needed\n",
    "2. Data preprocessing\n",
    "3. Preprocess data for US map\n",
    "4. Create US Map\n",
    "\n",
    "### Main Goals\n",
    "\n",
    "* Redo Ohio county inflow graph in Python\n",
    "* Create reproduceable code that makes inflow community graphs for every state\n",
    "* Later on: look at longer distance moves, so maybe going to counties from other states\n"
   ]
  },
  {
   "cell_type": "markdown",
   "id": "be5c1deb-aae3-4659-a66b-7b34993b41a5",
   "metadata": {},
   "source": [
    "# Section 1: Import Modules Needed"
   ]
  },
  {
   "cell_type": "code",
   "execution_count": 110,
   "id": "bdb848e9-933a-4e0f-89ae-35abea936716",
   "metadata": {},
   "outputs": [],
   "source": [
    "import pandas as pd\n",
    "import numpy as np\n",
    "import networkx as nx\n",
    "import matplotlib.pyplot as plt\n",
    "import pylab\n",
    "from cdlib import algorithms,viz\n",
    "from matplotlib import colormaps\n",
    "from urllib.request import urlopen\n",
    "import json\n",
    "import plotly.express as px\n",
    "import leidenalg as la\n",
    "import igraph as ig"
   ]
  },
  {
   "cell_type": "markdown",
   "id": "9536c35a-c8e4-42ec-b19a-61ede3bdb9cb",
   "metadata": {},
   "source": [
    "# Section 2: Data Preprocessing\n",
    "\n",
    "This section has the function that: \n",
    "\n",
    "* Imports the csv county data from the IRS website\n",
    "* Changes column names to standardize them in case we use different `inflow` files from other years\n",
    "* Filters out total migration, non-migrants, and foreign migrants\n",
    "* Filters out rows that have 40 or less migrants total\n",
    "* Creates target county names and target county states through an inner join\n",
    "* Creates our node and edge list of counties and states that can be used in our network graphs\n",
    "\n",
    "\n",
    "## Standardize the TargetStateFips column of our TotalEdgeList, to match the FIPS of the USA graph values\n",
    "* TargetCountyFIPS that have two digits will have a leading zero, one digit will have two leading zeros\n",
    "* TargetStateFIPS that have one digit will have one leading zero\n",
    "* Concat these two values into one column `TotalFips`"
   ]
  },
  {
   "cell_type": "code",
   "execution_count": 113,
   "id": "e8032b09-9647-49e2-8075-3684596027ac",
   "metadata": {
    "scrolled": true
   },
   "outputs": [
    {
     "name": "stdout",
     "output_type": "stream",
     "text": [
      "You can now access \"TotalNodeList\" and \"TotalEdgeList\" tables for further use!\n"
     ]
    }
   ],
   "source": [
    "# Pass in the url for our county inflow csv from IRS site\n",
    "def CleanData(url):\n",
    "    raw_df = pd.read_csv(url, encoding='latin-1')\n",
    "    df = pd.DataFrame(raw_df)\n",
    "\n",
    "    # Change column names based on IRS info\n",
    "    df.rename(columns={'y2_statefips': 'TargetStateFips', 'y2_countyfips': 'TargetCountyFips', 'y1_statefips': 'OriginStateFips',\n",
    "                       'y1_countyfips': 'OriginCountyFips', 'y1_state': 'OriginState', 'y1_countyname': 'OriginCountyName',\n",
    "                       'n1': 'ReturnNum', 'n2': 'IndividualsNum'}, inplace=True)\n",
    "\n",
    "    # Filter out all origin state fips greater than 56\n",
    "    df = df[df['OriginStateFips'] <= 56]\n",
    "    # Remove rows that have 40 or less migrants\n",
    "    df = df[df['ReturnNum'] > 40]\n",
    "    # Filter our origin county names that have the strings: Non-migrants, and Foreign\n",
    "    df = df[~df['OriginCountyName'].str.contains('Non-migrants|Foreign')]\n",
    "\n",
    "    # Create target countyname and target state name. We need these target county names to add into our edgelist as the 'Target'\n",
    "    TargetTable = df[['OriginCountyName', 'OriginState', 'OriginStateFips', 'OriginCountyFips']].copy()\n",
    "    TargetTable.drop_duplicates(inplace=True)\n",
    "\n",
    "    # Rename columns for the target information\n",
    "    TargetTable.rename(columns={'OriginCountyName': 'TargetCountyName', 'OriginState': 'TargetState', \n",
    "                                'OriginStateFips': 'TargetStateFips', 'OriginCountyFips': 'TargetCountyFips'}, inplace=True)\n",
    "\n",
    "    # Merge with the main dataframe\n",
    "    Merge = pd.merge(\n",
    "        df, \n",
    "        TargetTable[['TargetStateFips', 'TargetCountyFips', 'TargetState', 'TargetCountyName']], \n",
    "        left_on=['TargetStateFips', 'TargetCountyFips'], \n",
    "        right_on=['TargetStateFips', 'TargetCountyFips'],\n",
    "        how='inner' \n",
    "    )\n",
    "\n",
    "    # Remove 'County' or 'county' from OriginCountyName and TargetCountyName\n",
    "    Merge['OriginCountyName'] = Merge['OriginCountyName'].str.replace('County', '', case=False)\n",
    "    Merge['TargetCountyName'] = Merge['TargetCountyName'].str.replace('County', '', case=False)\n",
    "\n",
    "    # Create a node and edgelist of counties within the states. \n",
    "    TotalNodeList = Merge[['TargetCountyFips', 'TargetCountyName', 'TargetState']]\n",
    "    TotalNodeList = TotalNodeList.sort_values(by='TargetCountyFips')\n",
    "    TotalNodeList.rename(columns={'TargetCountyFips': 'CountyFips', 'TargetCountyName': 'CountyName', 'TargetState': 'State'}, inplace=True)\n",
    "    TotalNodeList.drop_duplicates(inplace=True)\n",
    "\n",
    "\n",
    "    TotalEdgeList = Merge[['OriginState', 'OriginCountyName', 'TargetState', 'TargetCountyName', 'ReturnNum', 'agi', 'OriginCountyFips',\n",
    "                           'TargetCountyFips', 'TargetStateFips', 'OriginStateFips']]\n",
    "    TotalEdgeList.drop_duplicates(inplace=True)\n",
    "    TotalEdgeList.sort_values(by=['OriginState', 'OriginCountyName'], inplace=True)\n",
    "\n",
    "    # Adjusting FIPS columns in TotalEdgeList\n",
    "    TotalEdgeList['TargetCountyFips'] = TotalEdgeList['TargetCountyFips'].astype(str).str.zfill(3)  # Ensure 3 digits\n",
    "    TotalEdgeList['TargetStateFips'] = TotalEdgeList['TargetStateFips'].astype(str).str.zfill(2)    # Ensure 2 digits\n",
    "\n",
    "    # Create TargetTotalFips by concatenating TargetStateFips and TargetCountyFips\n",
    "    TotalEdgeList['TargetTotalFips'] = TotalEdgeList['TargetStateFips'] + TotalEdgeList['TargetCountyFips']\n",
    "\n",
    "    # Preview the modified DataFrame\n",
    "    print('You can now access \"TotalNodeList\" and \"TotalEdgeList\" tables for further use!')\n",
    "    return TotalNodeList, TotalEdgeList, TargetTable\n",
    "    \n",
    "# Running this function will return the cleaned Node and Edge list required for our network graphs! \n",
    "# We can pass in any county-inflow csv link through the IRS site\n",
    "TotalNodeList, TotalEdgeList, TargetTable = CleanData(url='https://www.irs.gov/pub/irs-soi/countyinflow2122.csv')"
   ]
  },
  {
   "cell_type": "markdown",
   "id": "630bd4c2-0e28-4134-a539-499301732b19",
   "metadata": {},
   "source": [
    "# Section 3: Preprocess data for US map\n",
    "\n",
    "In this section:\n",
    "* Recreate state graph with the total graph of the united states\n",
    "* Create a seperate community dataframe that has the county name and state of county, with the community it belongs in\n",
    "* Join the community dataframe onto the TotalEdgeList to identify which county belongs to each community\n",
    "* Pass in the new edge dataframe that has community labels onto the graph, pass this as `CountyDF`"
   ]
  },
  {
   "cell_type": "code",
   "execution_count": 115,
   "id": "2dcde6ff-6d93-4775-aa99-78d5f65d26a7",
   "metadata": {
    "scrolled": true
   },
   "outputs": [
    {
     "name": "stdout",
     "output_type": "stream",
     "text": [
      "You can now access CountyDf to create the US Map\n"
     ]
    }
   ],
   "source": [
    "def CleanUSData(TotalEdgeList):\n",
    "    # Generate the graph based on the total edge list\n",
    "    G = nx.from_pandas_edgelist(TotalEdgeList, source='OriginCountyName', target='TargetCountyName', edge_attr='ReturnNum')\n",
    "    \n",
    "    # Use the CDLib library to get our Louvain algorithm for community detection\n",
    "    communities = algorithms.leiden(G)\n",
    "    \n",
    "    # Create a dictionary mapping each node (county) to its community\n",
    "    CommunityDict = {node: cid for cid, community in enumerate(communities.communities) for node in community}\n",
    "    \n",
    "    # Convert the community dictionary into a DataFrame\n",
    "    CommunityDf = pd.DataFrame(list(CommunityDict.items()), columns=['CountyName', 'Community'])\n",
    "    \n",
    "    # Sort the dataframe by community for easier interpretation\n",
    "    CommunityDf.sort_values('Community', inplace=True)\n",
    "    \n",
    "    # Reset the index for a clean presentation\n",
    "    CommunityDf.reset_index(drop=True, inplace=True)\n",
    "    \n",
    "    # Join the community dataframe onto the TotalEdgeList to identify which county belongs to each community\n",
    "    CountyDf = pd.merge(\n",
    "                    TotalEdgeList,\n",
    "                    CommunityDf,\n",
    "                    how='inner',\n",
    "                    left_on='TargetCountyName',\n",
    "                    right_on='CountyName',\n",
    "                )\n",
    "    \n",
    "    print('You can now access CountyDf to create the US Map')\n",
    "    return G, CountyDf, CommunityDf\n",
    "    \n",
    "# Output\n",
    "G, CountyDf, CommunityDf = CleanUSData(TotalEdgeList)"
   ]
  },
  {
   "cell_type": "markdown",
   "id": "f1d4c729-0054-4227-8793-799aa9582af0",
   "metadata": {},
   "source": [
    "# Section 4: Create US Map \n",
    "\n",
    "The goal of this section is to:\n",
    "* Create a chlorepleth map showing communities across the US.\n",
    "* The counties are discretly colored, so different colors represent different communities\n",
    "* Plotly creates an interactive map so you can filter out certain commmunities\n",
    "\n",
    "Later on, I will add labels to identify every county, and for now I took out edges between counties since it causes a memory issue."
   ]
  },
  {
   "cell_type": "code",
   "execution_count": 121,
   "id": "a0b1929e-f2eb-4f6e-9748-dc22fe440deb",
   "metadata": {
    "scrolled": true
   },
   "outputs": [],
   "source": [
    "# Download a json file with counties and fips\n",
    "#with urlopen('https://raw.githubusercontent.com/plotly/datasets/master/geojson-counties-fips.json') as response:\n",
    "#    counties = json.load(response)\n",
    "\n",
    "\n",
    "# Ensure the Community column is treated as categorical\n",
    "#CountyDf['Community'] = CountyDf['Community'].astype(str)\n",
    "\n",
    "# Create the choropleth map with discrete colors\n",
    "#fig = px.choropleth(\n",
    "#    CountyDf,\n",
    "#    geojson=counties,\n",
    "#    locations='TargetTotalFips',  # Column with FIPS codes\n",
    "#    color='Community',           # Column to assign discrete colors\n",
    "#    color_discrete_sequence=px.colors.qualitative.Vivid,  # Discrete color scale\n",
    "#    scope='usa',\n",
    "#    labels={'Community': 'Community'},\n",
    "#    title='Leiden Communities by US Counties',\n",
    "#)\n",
    "\n",
    "# Update layout for better appearance\n",
    "#fig.update_layout(margin=dict(l=60, r=60, t=50, b=50))\n",
    "\n",
    "# Show the map\n",
    "#fig.show()\n",
    "#fig.write_html(\"us_county_map.html\")"
   ]
  }
 ],
 "metadata": {
  "kernelspec": {
   "display_name": "Python [conda env:base] *",
   "language": "python",
   "name": "conda-base-py"
  },
  "language_info": {
   "codemirror_mode": {
    "name": "ipython",
    "version": 3
   },
   "file_extension": ".py",
   "mimetype": "text/x-python",
   "name": "python",
   "nbconvert_exporter": "python",
   "pygments_lexer": "ipython3",
   "version": "3.12.7"
  }
 },
 "nbformat": 4,
 "nbformat_minor": 5
}
